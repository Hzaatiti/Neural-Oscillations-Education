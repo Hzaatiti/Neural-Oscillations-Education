{
 "cells": [
  {
   "cell_type": "markdown",
   "id": "b2c04259",
   "metadata": {},
   "source": [
    "# Estimating power spectra\n",
    "\n",
    "The  following exercise covers the  basics of how to calculate power spectra based on the Fast Fourier Transform (fft). In particular the pro and cons are addressed when calculating power spectra using windowing approaches such as Welch’s methods. We also discuss the application of Hanning tappers. \n",
    "\n",
    "Please go through the exercises step-by-step and answer the questions.\n",
    "\n",
    "Note the plots are made to commands using '#' . Remove the '#' to show plots.\n",
    "\n",
    "First import the relevant Python modules: "
   ]
  },
  {
   "cell_type": "code",
   "execution_count": 8,
   "id": "7cbcfc70",
   "metadata": {},
   "outputs": [],
   "source": [
    "import matplotlib.pyplot as plt\n",
    "import numpy as np\n",
    "from random import gauss"
   ]
  },
  {
   "cell_type": "markdown",
   "id": "c7ffc6fe",
   "metadata": {},
   "source": [
    "## The test signal\n",
    "\n",
    "The sampling frequency is set to 2048 Hz:"
   ]
  },
  {
   "cell_type": "code",
   "execution_count": 9,
   "id": "687f296f",
   "metadata": {},
   "outputs": [],
   "source": [
    "Fs = 1024"
   ]
  },
  {
   "cell_type": "markdown",
   "id": "cc821a64",
   "metadata": {},
   "source": [
    "The number of sampling points resulting in a 10 s long signal:"
   ]
  },
  {
   "cell_type": "code",
   "execution_count": 10,
   "id": "9650ec4b",
   "metadata": {},
   "outputs": [],
   "source": [
    "N = 10240"
   ]
  },
  {
   "cell_type": "markdown",
   "id": "fa2bacbc",
   "metadata": {},
   "source": [
    "and the corresponding the time axis:"
   ]
  },
  {
   "cell_type": "code",
   "execution_count": 18,
   "id": "d085621a",
   "metadata": {},
   "outputs": [],
   "source": [
    "timeVec = np.arange(0, 10,1/Fs)"
   ]
  },
  {
   "cell_type": "markdown",
   "id": "0c011522",
   "metadata": {},
   "source": [
    "The following ordinary differential equations simulate the so-called Brusselator. This is a \n",
    "set of equations simulating a simple chemical system producing spontaneous oscillations. \n",
    "The aim is to produce oscillatory activity with phase and amplitude jitter. You do not \n",
    "need to understand the details but just appreciate the output."
   ]
  },
  {
   "cell_type": "code",
   "execution_count": 19,
   "id": "edebb389",
   "metadata": {},
   "outputs": [],
   "source": [
    "s = np.zeros((N))\n",
    "x =  0; y  = 0;\n",
    "A = 1; B = 4.0; dt = 100/Fs; \n",
    "k= 0; \n",
    "for t in timeVec:\n",
    "    x += dt*(A + x*x*y - B*x-x) \n",
    "    y += dt*(B*x- x*x*y) \n",
    "    x += gauss(0,0.07) \n",
    "    s[k] = x\n",
    "    k += 1"
   ]
  },
  {
   "cell_type": "markdown",
   "id": "bb27996c",
   "metadata": {},
   "source": [
    "Add a sinusoidal signal to simulate the 50 Hz line noise: "
   ]
  },
  {
   "cell_type": "code",
   "execution_count": 20,
   "id": "645a8147",
   "metadata": {},
   "outputs": [],
   "source": [
    "s += 0.2*np.sin(2*np.pi*50*timeVec)"
   ]
  },
  {
   "cell_type": "markdown",
   "id": "5452f0c1",
   "metadata": {},
   "source": [
    "Remove the mean (or 'DC shift'):"
   ]
  },
  {
   "cell_type": "code",
   "execution_count": 21,
   "id": "da81cd46",
   "metadata": {},
   "outputs": [],
   "source": [
    "s -= np.mean(s,axis=0)"
   ]
  },
  {
   "cell_type": "markdown",
   "id": "87d46102",
   "metadata": {},
   "source": [
    "Plot the signal:"
   ]
  },
  {
   "cell_type": "code",
   "execution_count": 22,
   "id": "7a4f5e10",
   "metadata": {},
   "outputs": [],
   "source": [
    "# plt.plot(timeVec,s)\n",
    "# plt.xlim(3,4)"
   ]
  },
  {
   "cell_type": "markdown",
   "id": "3e9aaaad",
   "metadata": {},
   "source": [
    "### Question 1:\n",
    " a) What is the approximate frequency of the oscillations in the signal?\n",
    "\n",
    " b) Can you observe the 50 Hz contribution?"
   ]
  },
  {
   "cell_type": "markdown",
   "id": "9090ad45",
   "metadata": {},
   "source": [
    "## Calculating the power spectrum using FFT\n",
    "Now perform the Fourier transform using the Fast-Fourier Transform algorithm and \n",
    "normalize it with respect to number of sampling points:"
   ]
  },
  {
   "cell_type": "code",
   "execution_count": 23,
   "id": "af31b1ce",
   "metadata": {},
   "outputs": [],
   "source": [
    "Sfft = np.fft.fft(s)/(N/2)"
   ]
  },
  {
   "cell_type": "markdown",
   "id": "d6547c2a",
   "metadata": {},
   "source": [
    "Use only us the first half (the other half is redundant):"
   ]
  },
  {
   "cell_type": "code",
   "execution_count": 24,
   "id": "493333b9",
   "metadata": {},
   "outputs": [],
   "source": [
    "# plt.plot(np.real(Sfft))"
   ]
  },
  {
   "cell_type": "markdown",
   "id": "f164aec3",
   "metadata": {},
   "source": [
    "Calculate the frequency axis:"
   ]
  },
  {
   "cell_type": "code",
   "execution_count": 25,
   "id": "f0697f35",
   "metadata": {},
   "outputs": [],
   "source": [
    "freqVec = (Fs/N)*np.arange(0, int(N))"
   ]
  },
  {
   "cell_type": "markdown",
   "id": "f0d9db2e",
   "metadata": {},
   "source": [
    "Now plot the real and imaginary part of the Fourier transform (up to 60 Hz):"
   ]
  },
  {
   "cell_type": "code",
   "execution_count": 26,
   "id": "4cfb483b",
   "metadata": {},
   "outputs": [],
   "source": [
    "# plt.plot(freqVec,np.real(Sfft), freqVec, np.imag(Sfft)) \n",
    "# plt.xlim(0,60)\n",
    "# plt.ylim(-0.2,0.2)"
   ]
  },
  {
   "cell_type": "markdown",
   "id": "c593eadb",
   "metadata": {},
   "source": [
    "### Question 2:\n",
    "a) How can the phase of the individual Fourier components be derived from the real and \n",
    "imaginary values? \n",
    "\n",
    "b) Is the 50 Hz present?"
   ]
  },
  {
   "cell_type": "markdown",
   "id": "26a8159b",
   "metadata": {},
   "source": [
    "The following step calculates the power spectrum by taking the absolute squared values \n",
    "of the complex Fourier representation:"
   ]
  },
  {
   "cell_type": "code",
   "execution_count": 27,
   "id": "05720f91",
   "metadata": {},
   "outputs": [],
   "source": [
    "P = np.real(Sfft) ** 2 + np.imag(Sfft) ** 2;"
   ]
  },
  {
   "cell_type": "markdown",
   "id": "1ffbefa3",
   "metadata": {},
   "source": [
    "Plot the spectrum from 0 to 60 Hz:"
   ]
  },
  {
   "cell_type": "code",
   "execution_count": 30,
   "id": "c7179a66",
   "metadata": {},
   "outputs": [],
   "source": [
    "#plt.plot(freqVec,P)\n",
    "#plt.xlim(0,60)"
   ]
  },
  {
   "cell_type": "markdown",
   "id": "11b1b953",
   "metadata": {},
   "source": [
    "### Question 3:\n",
    "a) What is the approximate frequency of the oscillations produced by the Brusselator?\n",
    "\n",
    "b) What is the spectral width of the oscillations? \n",
    "\n",
    "c) The power of the 50 Hz line noise is about 0.04. Why this value?\n",
    "\n",
    "d) What is the frequency resolution of the power spectrum?\n",
    "\n",
    "e) How might the spectral estimate be improved?\n",
    "\n",
    "f) Can you reconstruct the original signal from the power spectrum?"
   ]
  },
  {
   "cell_type": "markdown",
   "id": "36b8701c",
   "metadata": {},
   "source": [
    "## Spectral estimation by windowing\n",
    "\n",
    "In the following section the signal will be divided into short segments being 1 s long (N = \n",
    "1024 sample points). These windows will overlap by 50% (512 sample points), meaning \n",
    "that the 10 s will be segmented in 19 overlapping windows. "
   ]
  },
  {
   "cell_type": "code",
   "execution_count": 31,
   "id": "e85da0dc",
   "metadata": {},
   "outputs": [],
   "source": [
    "Nwindow = 1024"
   ]
  },
  {
   "cell_type": "markdown",
   "id": "8a75447b",
   "metadata": {},
   "source": [
    "Define the indices meaning the sampling points for the ‘start’ and the ‘stop’ of each time \n",
    "window  ( [1 1024], [513 1536], [1025 2048], ...): "
   ]
  },
  {
   "cell_type": "code",
   "execution_count": 32,
   "id": "ee47e765",
   "metadata": {},
   "outputs": [],
   "source": [
    "s_sub = np.zeros((19,1024))\n",
    "for k in range(0,19):\n",
    "    i_start = k*512\n",
    "    i_stop = k*512+Nwindow\n",
    "    s_sub[k][:] = s[i_start:i_stop]"
   ]
  },
  {
   "cell_type": "markdown",
   "id": "aad56075",
   "metadata": {},
   "source": [
    "Note that the rows contain the 19 segments and the columns the 1024 data points:"
   ]
  },
  {
   "cell_type": "code",
   "execution_count": 33,
   "id": "d19c01d0",
   "metadata": {},
   "outputs": [
    {
     "name": "stdout",
     "output_type": "stream",
     "text": [
      "(19, 1024)\n"
     ]
    }
   ],
   "source": [
    "print(s_sub.shape)"
   ]
  },
  {
   "cell_type": "markdown",
   "id": "c7179bc9",
   "metadata": {},
   "source": [
    "Plot for instance segment 3:"
   ]
  },
  {
   "cell_type": "code",
   "execution_count": 34,
   "id": "37fd9b77",
   "metadata": {},
   "outputs": [],
   "source": [
    "# plt.plot(np.arange(0, Nwindow)/Fs,s_sub[3][:]) "
   ]
  },
  {
   "cell_type": "markdown",
   "id": "599b6d08",
   "metadata": {},
   "source": [
    "Calculate the fft for each segment and subsequently the power: "
   ]
  },
  {
   "cell_type": "code",
   "execution_count": 35,
   "id": "d94cd135",
   "metadata": {},
   "outputs": [],
   "source": [
    "Sfft = np.zeros((19,1024),dtype=complex)\n",
    "for k in range(0,19):\n",
    "    Sfft[k][:] = np.fft.fft(s_sub[k][:])/(Nwindow/2)\n"
   ]
  },
  {
   "cell_type": "code",
   "execution_count": 36,
   "id": "37231923",
   "metadata": {},
   "outputs": [],
   "source": [
    "P = np.real(Sfft) ** 2 + np.imag(Sfft) ** 2;"
   ]
  },
  {
   "cell_type": "markdown",
   "id": "32717cd2",
   "metadata": {},
   "source": [
    "Now calculate the frequency axis for 1024 sample points and plot the result for segment 3:"
   ]
  },
  {
   "cell_type": "code",
   "execution_count": 37,
   "id": "acdad9cc",
   "metadata": {},
   "outputs": [],
   "source": [
    "freqVec = (Fs/Nwindow)*np.arange(0, int(Nwindow/2),1)\n",
    "# plt.plot(freqVec,P[3][0:int(Nwindow/2)])\n",
    "# plt.xlim(0,60)"
   ]
  },
  {
   "cell_type": "markdown",
   "id": "9431fa28",
   "metadata": {},
   "source": [
    "### Question 4:\n",
    "What is the frequency resolution of the new power spectrum? Which peaks in the \n",
    "spectrum can you trust?"
   ]
  },
  {
   "cell_type": "markdown",
   "id": "fd768f3b",
   "metadata": {},
   "source": [
    "Now calculate the mean of the 19 spectra and plot the results:"
   ]
  },
  {
   "cell_type": "code",
   "execution_count": 38,
   "id": "ae9e40cb",
   "metadata": {},
   "outputs": [],
   "source": [
    "freqVec = (Fs/Nwindow)*np.arange(0, int(Nwindow),1)\n",
    "# plt.plot(np.mean(P,axis=0))\n",
    "# plt.xlim(0,60)"
   ]
  },
  {
   "cell_type": "markdown",
   "id": "0a7c3d11",
   "metadata": {},
   "source": [
    "### Question 5:\n",
    "a) Show the plot\n",
    "\n",
    "b) What peaks can you consider reliable?\n",
    "\n",
    "b) Compare to the first power spectrum (calculated for N=10240 without windowing). In what sense is the spectrum improved? And in what sense is it worsened? \n",
    "\n",
    "c) How could the power spectrum estimate be further smoothed?"
   ]
  },
  {
   "cell_type": "markdown",
   "id": "5148d906",
   "metadata": {},
   "source": [
    "## Using Hanning tapers\n",
    "The power spectrum estimate can be further improved using tapers. In the following case \n",
    "we have chosen for the Hanning taper. Calculate it for a 1024 long window and plot:"
   ]
  },
  {
   "cell_type": "code",
   "execution_count": 39,
   "id": "6caf7739",
   "metadata": {},
   "outputs": [],
   "source": [
    "taper = np.hanning(Nwindow)#\n",
    "# plt.plot(np.arange(0, Nwindow)/Fs,  taper)"
   ]
  },
  {
   "cell_type": "markdown",
   "id": "16a96dfb",
   "metadata": {},
   "source": [
    "Apply the taper to the 3rd time window and plot the results before and after:"
   ]
  },
  {
   "cell_type": "code",
   "execution_count": 40,
   "id": "09a3c66c",
   "metadata": {},
   "outputs": [],
   "source": [
    "# plt.plot(np.arange(0, Nwindow)/Fs,taper * s_sub[3][:]) "
   ]
  },
  {
   "cell_type": "markdown",
   "id": "0e3b0a6c",
   "metadata": {},
   "source": [
    "### Question 6:\n",
    "a) Why is this function termed a ‘taper’?\n",
    "\n",
    "b) Why might this operation be useful?\n",
    "\n",
    "Now apply the taper to all the 19 segments and calculate the respective power spectra."
   ]
  },
  {
   "cell_type": "code",
   "execution_count": 41,
   "id": "e54641a5",
   "metadata": {},
   "outputs": [],
   "source": [
    "for k in range(0,19):\n",
    "    Sfft[k][:] = np.fft.fft(taper*s_sub[k][:])/(Nwindow/2)\n",
    "    \n",
    "P = np.real(Sfft) ** 2 + np.imag(Sfft) ** 2;   "
   ]
  },
  {
   "cell_type": "markdown",
   "id": "1659e991",
   "metadata": {},
   "source": [
    "Plot the averaged power spectra:"
   ]
  },
  {
   "cell_type": "code",
   "execution_count": 42,
   "id": "538197c8",
   "metadata": {},
   "outputs": [],
   "source": [
    "# plt.plot(freqVec,np.mean(P,axis=0))\n",
    "# plt.xlim(0,60)"
   ]
  },
  {
   "cell_type": "markdown",
   "id": "a3d9bc03",
   "metadata": {},
   "source": [
    "### Question 7:\n",
    "a) What is the consequence of applying a taper? (consider both the slower oscillations \n",
    "and the 50 Hz peak)\n",
    "\n",
    "b) Why did we choose a window with 50% overlap rather than no overlap?"
   ]
  }
 ],
 "metadata": {
  "kernelspec": {
   "display_name": "Python 3",
   "language": "python",
   "name": "python3"
  },
  "language_info": {
   "codemirror_mode": {
    "name": "ipython",
    "version": 3
   },
   "file_extension": ".py",
   "mimetype": "text/x-python",
   "name": "python",
   "nbconvert_exporter": "python",
   "pygments_lexer": "ipython3",
   "version": "3.8.8"
  }
 },
 "nbformat": 4,
 "nbformat_minor": 5
}
