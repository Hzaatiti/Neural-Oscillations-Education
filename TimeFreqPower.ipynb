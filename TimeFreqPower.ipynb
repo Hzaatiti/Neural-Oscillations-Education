{
 "cells": [
  {
   "cell_type": "markdown",
   "id": "5991e178",
   "metadata": {},
   "source": [
    "# Time-frequency representations of power\n",
    "\n",
    "The following  exercise covers how to calculate time-frequency representations of power using a time-window FFT approach. The consequences of tapering and using windows of different lengths will be discussed.\n",
    "\n",
    "Please go through the exercises step-by-step and answer the questions.\n",
    "\n",
    "Note the plots are made to commands using '#' . Remove the '#' to show plots.\n",
    "\n",
    "First import the relevant Python modules: "
   ]
  },
  {
   "cell_type": "code",
   "execution_count": 951,
   "id": "93aa256c",
   "metadata": {},
   "outputs": [],
   "source": [
    "import matplotlib.pyplot as plt\n",
    "import numpy as np\n",
    "from random import gauss"
   ]
  },
  {
   "cell_type": "markdown",
   "id": "809fe90c",
   "metadata": {},
   "source": [
    "## The test signal\n",
    "\n",
    "The sampling frequency is set to 1024 Hz:"
   ]
  },
  {
   "cell_type": "code",
   "execution_count": 1068,
   "id": "d56c652a",
   "metadata": {},
   "outputs": [],
   "source": [
    "Fs = 1024"
   ]
  },
  {
   "cell_type": "markdown",
   "id": "1c487bb3",
   "metadata": {},
   "source": [
    "Now define the test signal to be analyzed. The signal will have N = 1024 samples, i.e. it is 1 s long. Following a flat signal of 0.5 s (first 512 sample), there is a f0 = 10 Hz signal turning on lasting for 0.5 s. "
   ]
  },
  {
   "cell_type": "code",
   "execution_count": 1069,
   "id": "ff908496",
   "metadata": {},
   "outputs": [],
   "source": [
    "f0 = 10\n",
    "\n",
    "t = np.arange(0, 1,1/Fs)\n",
    "t = np.arange(0, 1,1/Fs)\n",
    "s = np.sin(2*np.pi*f0*t + 1.0)\n",
    "\n",
    "N = 1024\n",
    "s[0:int(N/2)-1] = -1"
   ]
  },
  {
   "cell_type": "markdown",
   "id": "64df15c3",
   "metadata": {},
   "source": [
    "Add some Gaussian noise with a standard deviation of 0.2:"
   ]
  },
  {
   "cell_type": "code",
   "execution_count": 1070,
   "id": "7750f588",
   "metadata": {},
   "outputs": [],
   "source": [
    "s += np.random.normal(0, 0.2 , size = s.shape)"
   ]
  },
  {
   "cell_type": "markdown",
   "id": "02631159",
   "metadata": {},
   "source": [
    "Add a sinusoidal signal to simulate the 50 Hz line noise: "
   ]
  },
  {
   "cell_type": "code",
   "execution_count": 1071,
   "id": "6174c150",
   "metadata": {},
   "outputs": [],
   "source": [
    "s += 0.4*np.sin(2*np.pi*50*t) "
   ]
  },
  {
   "cell_type": "markdown",
   "id": "53b90f8c",
   "metadata": {},
   "source": [
    "and plot the signal:"
   ]
  },
  {
   "cell_type": "code",
   "execution_count": 1072,
   "id": "d5240200",
   "metadata": {},
   "outputs": [
    {
     "data": {
      "text/plain": [
       "Text(0.5, 0, 'time (s)')"
      ]
     },
     "execution_count": 1072,
     "metadata": {},
     "output_type": "execute_result"
    },
    {
     "data": {
      "image/png": "[encoded data removed]",
      "text/plain": [
       "<Figure size 432x288 with 1 Axes>"
      ]
     },
     "metadata": {
      "needs_background": "light"
     },
     "output_type": "display_data"
    }
   ],
   "source": [
    "plt.plot(t,s)\n",
    "plt.xlabel('time (s)')"
   ]
  },
  {
   "cell_type": "markdown",
   "id": "af286608",
   "metadata": {},
   "source": [
    "### The sliding time-window\n",
    "\n",
    "The first step it to drag a time window over the data. This is done by selecting stretches of data around each sample points (e.g. 512 points). For instance, for sample point 300 we will select the stretch from 300-256 = 44 to 300+256-1 = 555. The boundaries create problems. In this case we will set the existing value to zero (zero-padding). E.g. for sample 1, the 255 values prior to the sample will be considered 0.\n",
    "\n",
    "The following script with cut out the time windows; one time-window for each sample point (note that the script uses several ‘for loops’. In general this inefficient Matlab code; however, it is done for illustrative purposes).\n",
    "\n",
    "Each time window will be Nwindow = 512 points long:\n"
   ]
  },
  {
   "cell_type": "code",
   "execution_count": 1073,
   "id": "19bed7bc",
   "metadata": {},
   "outputs": [],
   "source": [
    "Nwindow = 512"
   ]
  },
  {
   "cell_type": "markdown",
   "id": "e54e6431",
   "metadata": {},
   "source": [
    "Now loop over the sample points and cut out the windows of interest."
   ]
  },
  {
   "cell_type": "code",
   "execution_count": 1074,
   "id": "5ef76247",
   "metadata": {},
   "outputs": [],
   "source": [
    "swindow = np.zeros((N,Nwindow))\n",
    "\n",
    "for k in range(0,N-1):             # loop over all sample points\n",
    "    nstart = k - int(Nwindow/2)    # define the start of time-window k\n",
    "    nstop =  k + int(Nwindow/2)-1  # define the end of time-window k \n",
    "    n = 0\n",
    "    for m in range(nstart,nstop):\n",
    "        if m < 0 or m > N-1 :\n",
    "            swindow[k][n] = 0      # Zero=pad at the boundary\n",
    "        else:\n",
    "            swindow[k][n]= s[m]    # Copy the data from s to time-window k\n",
    "        n += 1"
   ]
  },
  {
   "cell_type": "markdown",
   "id": "26f55d57",
   "metadata": {},
   "source": [
    "The windows are stored in the matrix swindow which in this case has 512 columns (the data samples the respective windows) and 1024 row (the total number of windows).\n",
    "\n",
    "\n",
    "Plot the matrix swindow:"
   ]
  },
  {
   "cell_type": "code",
   "execution_count": 1090,
   "id": "d00239b7",
   "metadata": {},
   "outputs": [],
   "source": [
    "# plt.imshow(swindow, origin='lower', aspect = 'auto')\n",
    "# plt.xlabel('samples');\n",
    "# plt.ylabel('window');\n",
    "# plt.colorbar();"
   ]
  },
  {
   "cell_type": "markdown",
   "id": "f0af9519",
   "metadata": {},
   "source": [
    "Try to identify the oscillations and zero-padding in the plot above. "
   ]
  },
  {
   "cell_type": "markdown",
   "id": "64c57469",
   "metadata": {},
   "source": [
    "## Calculate the power spectra for each window\n",
    "\n",
    "Now calculate the power spectrum for each time window. These is simply done by looping over the windows and then use the FFT algorithm to calculate the respective Fourier transforms. After, the power is calculated as the squared modulus of the Fourier transform (abs(Sfft).^2). The number of FFT points will be the same as the length of the windows:"
   ]
  },
  {
   "cell_type": "code",
   "execution_count": 1076,
   "id": "363c972f",
   "metadata": {},
   "outputs": [
    {
     "name": "stdout",
     "output_type": "stream",
     "text": [
      "(1024, 512)\n"
     ]
    }
   ],
   "source": [
    "Nfft = Nwindow\n",
    "P = np.zeros((N,Nwindow))\n",
    "for k in range(0,N-1):\n",
    "    Sfft = np.fft.fft(swindow[k,:])/(Nfft/2)\n",
    "    P[k,:] = np.abs(Sfft) ** 2\n",
    "\n",
    "print(P.shape)"
   ]
  },
  {
   "cell_type": "markdown",
   "id": "dbd98af3",
   "metadata": {},
   "source": [
    "This produces a matrix of power (P) with 1024 rows representing the windows and 512 columns representing the frequencies.\n",
    "\n",
    "Calculate the frequency axis:"
   ]
  },
  {
   "cell_type": "code",
   "execution_count": 1077,
   "id": "91d74e53",
   "metadata": {},
   "outputs": [],
   "source": [
    "f = (Fs/(Nfft))*np.arange(0, Nfft)"
   ]
  },
  {
   "cell_type": "markdown",
   "id": "4f094793",
   "metadata": {},
   "source": [
    "## Illustrating the power representations\n",
    "\n",
    "Now plot the spectra from two representative time windows with respect to window 103 (t = 0.1 s) and sample 768 (t = 0.75 s). Limit the time x-axis from 0 to 60 Hz:\n"
   ]
  },
  {
   "cell_type": "code",
   "execution_count": 1091,
   "id": "7db2f0c6",
   "metadata": {
    "scrolled": true
   },
   "outputs": [],
   "source": [
    "#plt.plot(f,P[103,:],label='window 103')\n",
    "#plt.plot(f,P[768,:],label='window 768')\n",
    "#plt.xlim(0,60);plt.ylim(0,1)\n",
    "#plt.xlabel('frequency (Hz)');plt.ylabel('Power')\n",
    "#plt.legend()"
   ]
  },
  {
   "cell_type": "markdown",
   "id": "94697ddb",
   "metadata": {},
   "source": [
    "### Question 1\n",
    "\n",
    "Why is there a low frequency component for t = 0.1 s (window 103)?\n",
    "\n"
   ]
  },
  {
   "cell_type": "markdown",
   "id": "a97649f8",
   "metadata": {},
   "source": [
    "The next step is to use a color representation to illustrate the time-frequency\n",
    "representation of power. This is simply done by showing the ‘stacked power’ spectra:"
   ]
  },
  {
   "cell_type": "code",
   "execution_count": 1092,
   "id": "d64ce0aa",
   "metadata": {},
   "outputs": [],
   "source": [
    "P2 = P[:,0:32]             # limit to 0-60 Hz\n",
    "freqVec2 = freqVec[0:32]   # limit to 0-60 Hz\n",
    "\n",
    "#plt.imshow(np.transpose(P2), vmin=0,vmax=0.4,origin='lower',aspect='auto',extent=[0,max(t)*1000,0,max(freqVec2)])\n",
    "#plt.xlabel('time (ms)');plt.ylabel('frequency (Hz)'); plt.colorbar();"
   ]
  },
  {
   "cell_type": "markdown",
   "id": "98a27e88",
   "metadata": {},
   "source": [
    "### Questions 2\n",
    "Identify and describe the main features of the time-frequency representations in relation to the test signal"
   ]
  },
  {
   "cell_type": "markdown",
   "id": "7d7fa2b9",
   "metadata": {},
   "source": [
    "There are quite a lot of features in the power representations no related to the test signal per se. This is explained by spectral leakage being a consequence of the ‘boxcar’ shape of the windowed data. \n",
    "\n",
    "## Using Hanning tapers to reduce spectral leakage\n",
    "The spectral representation can be improved by using a taper to reduce the spectral leakage. The Hanning taper we will use has the following shape:\n"
   ]
  },
  {
   "cell_type": "code",
   "execution_count": 1080,
   "id": "d10f423a",
   "metadata": {},
   "outputs": [
    {
     "data": {
      "image/png": "[encoded data removed]",
      "text/plain": [
       "<Figure size 432x288 with 1 Axes>"
      ]
     },
     "metadata": {
      "needs_background": "light"
     },
     "output_type": "display_data"
    }
   ],
   "source": [
    "taper = 2*np.hanning(Nfft)\n",
    "plt.plot(taper)\n",
    "plt.xlabel('samples');"
   ]
  },
  {
   "cell_type": "markdown",
   "id": "8fc90c4f",
   "metadata": {},
   "source": [
    "This function is then multiplied to the data in each time window prior to calculating the Fourier transform:"
   ]
  },
  {
   "cell_type": "code",
   "execution_count": 1081,
   "id": "06893b97",
   "metadata": {},
   "outputs": [],
   "source": [
    "Nfft = Nwindow\n",
    "P = np.zeros((N,Nwindow))\n",
    "for k in range(0,N-1):\n",
    "    Sfft = np.fft.fft(taper*swindow[k,:])/(Nfft/2)\n",
    "    P[k,:] = np.abs(Sfft) ** 2"
   ]
  },
  {
   "cell_type": "markdown",
   "id": "e9f6f0e3",
   "metadata": {},
   "source": [
    "Now plot the time-frequency representations of power:"
   ]
  },
  {
   "cell_type": "code",
   "execution_count": 1093,
   "id": "1a559e26",
   "metadata": {},
   "outputs": [],
   "source": [
    "f = (Fs/(Nfft))*np.arange(0, Nfft)\n",
    "P2 = P[:,0:32]             # limit to 0-60 Hz\n",
    "freqVec2 = freqVec[0:32]   # limit to 0-60 Hz\n",
    "\n",
    "#plt.imshow(np.transpose(P2),vmin=0,vmax=0.4,origin='lower',aspect='auto',extent=[0,max(t)*1000,0,max(freqVec2)])\n",
    "#plt.xlabel('time (ms)');plt.ylabel('frequency (Hz)'); plt.colorbar();"
   ]
  },
  {
   "cell_type": "markdown",
   "id": "f2b71ad5",
   "metadata": {},
   "source": [
    "### Question 3:\n",
    "\n",
    "- How did the taper improve the estimate?\n",
    "- Identify the 10 Hz signal\n",
    "    - How long does it take for i to turn on?\n",
    "    - Why does the 10 Hz power dip around 1?\n",
    "- Are there oscillations at ~1 Hz?\n",
    "- Estimate the width of the 50 Hz line noise. Why did it expand after using a taper?"
   ]
  },
  {
   "cell_type": "markdown",
   "id": "66312bc0",
   "metadata": {},
   "source": [
    "## Relationship to convolution and filtering\n",
    "\n",
    "Recall that the Fourier transform at x Hz can be calculated by multiplying and then summing a cosine and a sine of x Hz to the signal of interest. This means that the power spectra we just calculated also could be derived by multiplying the cosine and sine to the data of each time window and calculating the respective sums (dot products). This can also be envisioned as multiplying a boxcar function to the data prior to calculating the Fourier transform. The boxcar is then moved one step forward. This is in effect the same a convolution in the discrete domain. Also recall that convolution in the time domain is the same as multiplication in the frequency domain. Thus we can qualitatively study the effect of the sliding (boxcar) time window by considering the power spectrum of the function cos(2 $\\pi$ f t) + i sin(2 $\\pi$ f t) where t are the time points of the window. This spectrum is informative for how the sliding time window affects the time-frequency estimate of power. We will do this for 9 Hz:"
   ]
  },
  {
   "cell_type": "code",
   "execution_count": 1094,
   "id": "762fa000",
   "metadata": {},
   "outputs": [],
   "source": [
    "tw = np.arange(0, Nfft)/Fs\n",
    "sw = np.cos(2*np.pi*9*tw)\n",
    "#plt.plot(tw,np.real(sw)) "
   ]
  },
  {
   "cell_type": "markdown",
   "id": "3337ec5f",
   "metadata": {},
   "source": [
    "Now calculate the power spectrum and plot it (in dB):"
   ]
  },
  {
   "cell_type": "code",
   "execution_count": 1095,
   "id": "40ffc20c",
   "metadata": {},
   "outputs": [],
   "source": [
    "Swfft = np.fft.fft(sw,10240)/(10240/2);\n",
    "Pw = np.abs(Swfft) ** 2;\n",
    "fw = (Fs/10240)*np.arange(0,10240);\n",
    "\n",
    "#plt.plot(fw,20*np.log10(Pw));\n",
    "#plt.xlim(0,60);plt.ylim(-400,0)\n",
    "#plt.xlabel('frequency(Hz)')"
   ]
  },
  {
   "cell_type": "markdown",
   "id": "e96a54e6",
   "metadata": {},
   "source": [
    "This figure illustrates the effect of using a sliding window (boxcar) to the data prior to\n",
    "calculating the power estimate."
   ]
  },
  {
   "cell_type": "markdown",
   "id": "b8459cce",
   "metadata": {},
   "source": [
    "In the following step we will calculate the effect of using a Hanning taper. This is simply done by multiplying a Hanning function to the time window prior to calculating the power spectra:\n"
   ]
  },
  {
   "cell_type": "code",
   "execution_count": 1096,
   "id": "936c396e",
   "metadata": {},
   "outputs": [],
   "source": [
    "tw = np.arange(0, Nfft)/Fs\n",
    "sw = np.cos(2*np.pi*9*tw)\n",
    "taper = np.hanning(Nfft)\n",
    "#plt.plot(tw,taper*np.real(sw)) "
   ]
  },
  {
   "cell_type": "markdown",
   "id": "e0d8ac8e",
   "metadata": {},
   "source": [
    "Now plot the power spectrum after applying the Hanning taper:"
   ]
  },
  {
   "cell_type": "code",
   "execution_count": 1097,
   "id": "a289a012",
   "metadata": {},
   "outputs": [],
   "source": [
    "Swfft = np.fft.fft(taper*sw,10240)/(10240/2);\n",
    "Pw = np.abs(Swfft) ** 2;\n",
    "fw = (Fs/10240)*np.arange(0,10240);\n",
    "\n",
    "#plt.plot(fw,20*np.log10(Pw));\n",
    "#plt.xlim(0,60);plt.ylim(-400,0)\n",
    "#plt.xlabel('frequency(Hz)')"
   ]
  },
  {
   "cell_type": "markdown",
   "id": "22c9a58c",
   "metadata": {},
   "source": [
    "### Question 4:\n",
    "\n",
    "* How does the Hanning taper affect the attenuation?\n",
    "* What does the Hanning taper do to the width of the spectral peak?\n"
   ]
  },
  {
   "cell_type": "markdown",
   "id": "fe2751dc",
   "metadata": {},
   "source": [
    "## Modifying the length of the time window\n",
    "The most important way to modify the time-frequency representation of power is to change the length of the time window. First shorten the time to 256 points:"
   ]
  },
  {
   "cell_type": "code",
   "execution_count": 1087,
   "id": "2d098cd9",
   "metadata": {},
   "outputs": [],
   "source": [
    "Nwindow = 256"
   ]
  },
  {
   "cell_type": "markdown",
   "id": "2b8ad519",
   "metadata": {},
   "source": [
    "Now re-run the script in order to show the time-frequency representation of power.\n",
    "\n",
    "### Question 5:\n",
    "* What are the consequences for the temporal resolution?\n",
    "* What are the consequences the frequency smearing? – consider both the 10 Hz and 50 Hz components\n",
    "* What are the consequences for the temporal smearing?\n",
    "* What does the spectral representation of the shorter taper look like? (show plot; derived as in Question 4)\n"
   ]
  },
  {
   "cell_type": "markdown",
   "id": "c736abc8",
   "metadata": {},
   "source": [
    "Now lengthen the time window to"
   ]
  },
  {
   "cell_type": "code",
   "execution_count": 1088,
   "id": "e327a2a7",
   "metadata": {},
   "outputs": [],
   "source": [
    "Nwindow = 1024"
   ]
  },
  {
   "cell_type": "markdown",
   "id": "79a64ce5",
   "metadata": {},
   "source": [
    "and re-run the scripts.\n",
    "\n",
    "### Question 6:\n",
    "* Show new TFR plot\n",
    "* What are the consequences for the temporal resolution?\n",
    "* What are the consequences the frequency smearing? – consider both the 10 Hz and 50 Hz components\n",
    "* What are the consequences for the temporal smearing?\n",
    "* What does the spectral representation of the shorter taper look like? (show plot; derived as in Question 4)"
   ]
  }
 ],
 "metadata": {
  "kernelspec": {
   "display_name": "Python 3",
   "language": "python",
   "name": "python3"
  },
  "language_info": {
   "codemirror_mode": {
    "name": "ipython",
    "version": 3
   },
   "file_extension": ".py",
   "mimetype": "text/x-python",
   "name": "python",
   "nbconvert_exporter": "python",
   "pygments_lexer": "ipython3",
   "version": "3.8.8"
  }
 },
 "nbformat": 4,
 "nbformat_minor": 5
}
