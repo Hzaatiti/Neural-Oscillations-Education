{
 "cells": [
  {
   "cell_type": "markdown",
   "id": "f6cb2a00",
   "metadata": {},
   "source": [
    "# The Discrete Fourier Transform\n",
    "\n",
    "The following  exercise covers the basis of the discrete Fourier transformation and the inverse Fourier transformation. The aim is to do this without the use of complex numbers and to graphically illustrate each step. The role of the Fourier transform is to decompose the signal  in  to  a  set  of  basis  functions  defined  by  sines  and  cosines.  Each  of  these  basis  functions  is  associated  with  a  coefficient.  This  allows  for  reconstructing  or  synthesizing  the original signals using the inverse Fourier transform. \n",
    "\n",
    "The steps allow for calculating the power spectrum as well as constructing low-, high- and bandpass filters. \n",
    "\n",
    "Please go through the exercises step-by-step and answer the questions.\n",
    "\n",
    "Note the plots are made to commands using '#' . Remove the '#' to show plots.\n",
    "\n",
    "\n",
    "First import the relevant modules: "
   ]
  },
  {
   "cell_type": "code",
   "execution_count": 2,
   "id": "a3e672c4",
   "metadata": {},
   "outputs": [],
   "source": [
    "import matplotlib.pyplot as plt\n",
    "import numpy as np"
   ]
  },
  {
   "cell_type": "markdown",
   "id": "8b1e1d7f",
   "metadata": {},
   "source": [
    "## The test signal\n",
    "\n",
    "The sampling frequency is set to 2048 Hz:"
   ]
  },
  {
   "cell_type": "code",
   "execution_count": 3,
   "id": "b3accfc5",
   "metadata": {},
   "outputs": [],
   "source": [
    "Fs = 2048;"
   ]
  },
  {
   "cell_type": "markdown",
   "id": "13788218",
   "metadata": {},
   "source": [
    "Now define the test signal to be analyzed. The signal will have N = 2048 samples, i.e. it is 1 s long.\n",
    "Following a flat signal of 0.5 s (first 1024 sample), there is a f0 = \n",
    "10 Hz signal turning on lasting for 0.5 s. "
   ]
  },
  {
   "cell_type": "code",
   "execution_count": 4,
   "id": "1d16ab2a",
   "metadata": {},
   "outputs": [],
   "source": [
    "f0 = 10\n",
    "\n",
    "t = np.arange(0, 1,1/Fs)\n",
    "t = np.arange(0, 1,1/Fs)\n",
    "s = np.sin(2*np.pi*f0*t + 1.0)\n",
    "\n",
    "N = 2048\n",
    "s[0:int(N/2)-1] = -1"
   ]
  },
  {
   "cell_type": "markdown",
   "id": "27b8403a",
   "metadata": {},
   "source": [
    "Add some Gaussian noise with a standard deviation of 0.2:"
   ]
  },
  {
   "cell_type": "code",
   "execution_count": 5,
   "id": "194be0e0",
   "metadata": {},
   "outputs": [],
   "source": [
    "s = s + np.random.normal(0, 0.2 , size = s.shape)"
   ]
  },
  {
   "cell_type": "markdown",
   "id": "d594ad6e",
   "metadata": {},
   "source": [
    "and plot the signal: "
   ]
  },
  {
   "cell_type": "code",
   "execution_count": 1,
   "id": "0d12b7ea",
   "metadata": {},
   "outputs": [],
   "source": [
    "# plt.plot(t,s)"
   ]
  },
  {
   "cell_type": "markdown",
   "id": "5fed2233",
   "metadata": {},
   "source": [
    "Note that the signal starts at -1 (a 'DC shift')\n",
    "\n",
    "### Question 1:\n",
    "- a) What does the number 1.0 inside the sin expression do (try to change it)?\n",
    "- b) What is the units of that number?"
   ]
  },
  {
   "cell_type": "markdown",
   "id": "013f7a5e",
   "metadata": {},
   "source": [
    "## Define that basis functions for the discrete Fourier transform\n",
    "\n",
    "Allocate memory to save computational time later:"
   ]
  },
  {
   "cell_type": "code",
   "execution_count": 7,
   "id": "907c4071",
   "metadata": {},
   "outputs": [],
   "source": [
    "baseCos = np.zeros((1+int(N/2),N))\n",
    "baseSin = np.zeros((1+int(N/2),N))"
   ]
  },
  {
   "cell_type": "markdown",
   "id": "c47d5ad1",
   "metadata": {},
   "source": [
    "Now define the cosine and sine basis functions:"
   ]
  },
  {
   "cell_type": "code",
   "execution_count": 8,
   "id": "138329d9",
   "metadata": {},
   "outputs": [],
   "source": [
    "ind = np.arange(0, N,1)\n",
    "for k in range(1+int(N/2)):\n",
    "    baseCos[k,:] = np.cos(2*np.pi*k*ind/N)\n",
    "    baseSin[k,:] = np.sin(2*np.pi*k*ind/N)"
   ]
  },
  {
   "cell_type": "markdown",
   "id": "043d5c28",
   "metadata": {},
   "source": [
    "### Question 2:\n",
    "- What is the role of the variable k?\n",
    "\n",
    "In order to study the basis functions, plot the first 4:"
   ]
  },
  {
   "cell_type": "code",
   "execution_count": 2,
   "id": "6efb6a3e",
   "metadata": {},
   "outputs": [],
   "source": [
    "# plt.subplot(4,1,1)\n",
    "# plt.plot(t,baseCos[0,:],t,baseSin[0,:]);plt.title(\"k=0\")\n",
    "# plt.subplot(4,1,2)\n",
    "# plt.plot(t,baseCos[1,:],t,baseSin[1,:]);plt.title(\"k=1\")\n",
    "# plt.subplot(4,1,3)\n",
    "# plt.plot(t,baseCos[2,:],t,baseSin[2,:]);plt.title(\"k=2\")\n",
    "# plt.subplot(4,1,4)\n",
    "# plt.plot(t,baseCos[3,:],t,baseSin[3,:]);plt.title(\"k=3\")"
   ]
  },
  {
   "cell_type": "markdown",
   "id": "a3b8f815",
   "metadata": {},
   "source": [
    "### Question 3:\n",
    "- a. How many cycles do you observed for k = 0, 1, 2 and 3?\n",
    "- b. What is the phase difference between the cos and sin functions in units of degrees and radians? \n",
    "- c. plot the the basis function for k = 10. "
   ]
  },
  {
   "cell_type": "markdown",
   "id": "89ff01aa",
   "metadata": {},
   "source": [
    "## Calculate the coefficients of the Fourier transform\n",
    "The  following  step is  the  core  of the  Fourier transform. It calculates  the Fourier \n",
    "coefficient with respect to each basis function. This is simply done by calculating the dot-product between the signal and the individual basis functions:"
   ]
  },
  {
   "cell_type": "code",
   "execution_count": 10,
   "id": "7342129e",
   "metadata": {},
   "outputs": [],
   "source": [
    "Re = np.zeros(1+int(N/2))\n",
    "Im = np.zeros(1+int(N/2))\n",
    "\n",
    "for k in range(1+int(N/2)):\n",
    "    Re[k] =  np.dot(s ,baseCos[k,:]) \n",
    "    Im[k] =  np.dot(s ,baseSin[k,:])\n",
    "    "
   ]
  },
  {
   "cell_type": "markdown",
   "id": "62285bb2",
   "metadata": {},
   "source": [
    "Rescale coefficients according to vector lenght N:"
   ]
  },
  {
   "cell_type": "code",
   "execution_count": 11,
   "id": "14eb258f",
   "metadata": {},
   "outputs": [],
   "source": [
    "Re = Re/int(N/2)\n",
    "Im = Im/int(N/2)\n",
    "Re[0] = Re[0]/2\n",
    "Im[0] = Im[0]/2"
   ]
  },
  {
   "cell_type": "markdown",
   "id": "eb3215d1",
   "metadata": {},
   "source": [
    "Now plot the first 20 Fourier coefficients (the real and imaginary components respectively in Blue and \n",
    "Orange):"
   ]
  },
  {
   "cell_type": "code",
   "execution_count": 3,
   "id": "f2ac3fa4",
   "metadata": {},
   "outputs": [],
   "source": [
    "# plt.plot(np.arange(0,21,1),Re[0:21],np.arange(0,21,1),Im[0:21],  )"
   ]
  },
  {
   "cell_type": "markdown",
   "id": "92f546b3",
   "metadata": {},
   "source": [
    "### Question 4\n",
    "- Around which k-values do you see the largest coefficients? – and why?"
   ]
  },
  {
   "cell_type": "markdown",
   "id": "ee12d085",
   "metadata": {},
   "source": [
    "## Power spectrum"
   ]
  },
  {
   "cell_type": "markdown",
   "id": "299d9f19",
   "metadata": {},
   "source": [
    "The power spectrum can be calculated by adding the squared real and imaginary values of the Fourier coefficients"
   ]
  },
  {
   "cell_type": "code",
   "execution_count": 4,
   "id": "f5f4df72",
   "metadata": {},
   "outputs": [],
   "source": [
    "# plt.plot(Re ** 2 + Im ** 2)\n",
    "# plt.xlim([0 ,50])\n",
    "# plt.xlabel('Frequnecy (hz)')\n",
    "# plt.ylabel('Power')"
   ]
  },
  {
   "cell_type": "markdown",
   "id": "3fb206f4",
   "metadata": {},
   "source": [
    "### Question 5\n",
    "\n",
    "Interpret the shape of the power spectrum for the frequencies with large power"
   ]
  },
  {
   "cell_type": "markdown",
   "id": "dbd9448a",
   "metadata": {},
   "source": [
    "## The inverse Fourier transform\n",
    "\n",
    "The  inverse  Fourier  transform  allows  for  converting  a  frequency  domain  representation \n",
    "(defined by the Fourier coefficients) back  the original signal. \n",
    "First the Fourier domain coefficients need to be rescaled in order to allow for synthesis of the original signal:"
   ]
  },
  {
   "cell_type": "markdown",
   "id": "66fcf52a",
   "metadata": {},
   "source": [
    "The inverse Fourier transform is calculated by multiplying the rescaled Fourier \n",
    "coefficients to the respective basis functions:"
   ]
  },
  {
   "cell_type": "code",
   "execution_count": 14,
   "id": "2728ac45",
   "metadata": {},
   "outputs": [],
   "source": [
    "sR = np.zeros((1+int(N/2),N))\n",
    "for k in range(1+int(N/2)):\n",
    "    sR[k,:] = Re[k] * baseCos[k,:] + Im[k] * baseSin[k,:]\n"
   ]
  },
  {
   "cell_type": "markdown",
   "id": "3fb08bc4",
   "metadata": {},
   "source": [
    "The  original  signal  can  be  recreated  by  adding  together  the  individual  basis  functions \n",
    "multiplied by their respective coefficients. Before taking this step, \n",
    "observe  how  the  signal  reconstruction  improves  as  more  coefficients  are  taken  into \n",
    "account (respectively 3, 11, 16, 101 and all). \n"
   ]
  },
  {
   "cell_type": "code",
   "execution_count": 5,
   "id": "d20d8461",
   "metadata": {},
   "outputs": [],
   "source": [
    "# plt.subplot(4,1,1)\n",
    "# plt.plot(t,np.sum(sR[0:3,:],axis=0))\n",
    "# plt.subplot(4,1,2)\n",
    "# plt.plot(t,np.sum(sR[0:11,:],axis=0))\n",
    "# plt.subplot(4,1,3)\n",
    "# plt.plot(t,np.sum(sR[0:16,:],axis=0))\n",
    "# plt.subplot(4,1,4)\n",
    "# plt.plot(t,np.sum(sR[0:101,:],axis=0))"
   ]
  },
  {
   "cell_type": "markdown",
   "id": "edf83101",
   "metadata": {},
   "source": [
    "### Question 6:\n",
    "- a) What is the role of the first set of coefficients?\n",
    "- b) What is the role of the coefficient around k = 10?\n",
    "- c) What is the role of the higher coefficients?\n",
    "\n",
    "\n"
   ]
  },
  {
   "cell_type": "markdown",
   "id": "ff2d0304",
   "metadata": {},
   "source": [
    "Now reconstruct the orginial signals:"
   ]
  },
  {
   "cell_type": "code",
   "execution_count": 6,
   "id": "81fb1735",
   "metadata": {},
   "outputs": [],
   "source": [
    "# plt.plot(t,np.sum(sR,axis=0))"
   ]
  },
  {
   "cell_type": "markdown",
   "id": "0fdba507",
   "metadata": {},
   "source": [
    "### Question 7:\n",
    "- Implement a 50 Hz low pass filter based on the inverse Fourier transform. Show code and plot.\n",
    "\n",
    "### Question 8:\n",
    "- Implement a 2 Hz low pass filter based on the inverse Fourier transform. Show code and plot.\n",
    "\n",
    "### Question 9:\n",
    "- Implement a 5 - 15 Hz band pass filter based on the inverse Fourier transform/ Show code and plot.\n"
   ]
  },
  {
   "cell_type": "code",
   "execution_count": null,
   "id": "b4563993",
   "metadata": {},
   "outputs": [],
   "source": []
  }
 ],
 "metadata": {
  "kernelspec": {
   "display_name": "Python 3",
   "language": "python",
   "name": "python3"
  },
  "language_info": {
   "codemirror_mode": {
    "name": "ipython",
    "version": 3
   },
   "file_extension": ".py",
   "mimetype": "text/x-python",
   "name": "python",
   "nbconvert_exporter": "python",
   "pygments_lexer": "ipython3",
   "version": "3.8.8"
  }
 },
 "nbformat": 4,
 "nbformat_minor": 5
}
